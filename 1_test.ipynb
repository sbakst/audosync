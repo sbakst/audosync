{
 "cells": [
  {
   "cell_type": "code",
   "execution_count": 2,
   "metadata": {},
   "outputs": [],
   "source": [
    "import os\n",
    "import audiolabel\n",
    "import ultratils.pysonix.bprreader\n",
    "\n",
    "import pandas as pd\n",
    "import numpy as np\n",
    "import parselmouth\n",
    "import random\n",
    "\n",
    "import scipy.signal as sg\n",
    "import matplotlib.pyplot as plt\n",
    "import seaborn as sns\n",
    "from scipy import stats\n",
    "\n",
    "import audosync"
   ]
  },
  {
   "cell_type": "code",
   "execution_count": 3,
   "metadata": {},
   "outputs": [],
   "source": [
    "datadir = os.path.abspath('/media/sf_raw_qp_data/')"
   ]
  },
  {
   "cell_type": "markdown",
   "metadata": {},
   "source": [
    "The goal of this notebook is to extend the proof of concept to more test cases.  Let's begin with more productions from the same speaker."
   ]
  },
  {
   "cell_type": "code",
   "execution_count": 9,
   "metadata": {},
   "outputs": [],
   "source": [
    "testsubj = '121'\n",
    "acquisitions = [f for f in os.listdir(os.path.join(datadir,testsubj)) \n",
    "                if os.path.isdir(os.path.join(datadir,testsubj,f))]\n",
    "testoffsets = [i/100 for i in range(-20,21)]\n"
   ]
  },
  {
   "cell_type": "markdown",
   "metadata": {},
   "source": [
    "Now we want to make sure that the true sync works better than when the audio is offset.  This loop creates a new audiofile with an offset as indicated, then attempts to run the matchstreak function.  If successful, it will produce the offset, and the output of matchstreak, which is a tuple containing (max streaklength in frames, onsets of all streaks, offsets of all streaks)."
   ]
  },
  {
   "cell_type": "code",
   "execution_count": 12,
   "metadata": {},
   "outputs": [
    {
     "name": "stdout",
     "output_type": "stream",
     "text": [
      "2015-10-30T110309-0700\n",
      "0/394\n",
      "2015-10-30T105923-0700\n",
      "2015-10-30T105925-0700\n",
      "2015-10-30T105928-0700\n",
      "2015-10-30T105931-0700\n",
      "2015-10-30T105934-0700\n",
      "2015-10-30T105937-0700\n",
      "2015-10-30T105940-0700\n",
      "2015-10-30T105943-0700\n",
      "2015-10-30T105946-0700\n",
      "2015-10-30T105949-0700\n",
      "10/394\n",
      "2015-10-30T105952-0700\n",
      "Done!\n"
     ]
    }
   ],
   "source": [
    "testsyncdf = pd.DataFrame(columns=['subject','acquisition','word','offset','streak','syncduration'])\n",
    "\n",
    "for i in range(0,5):\n",
    "#for i in range(0,12): #len(acquisitions)):\n",
    "#     testcase = random.choice(acquisitions) # choose a random acquisition\n",
    "    testcase = acquisitions[i]\n",
    "    print(testcase)\n",
    "    if i%10==0:\n",
    "        print(str(i)+'/'+str(len(acquisitions)))\n",
    "\n",
    "    # read the word\n",
    "    stimfile = os.path.join(datadir, testsubj, testcase, 'stim.txt')\n",
    "    with open(stimfile,'r') as f:\n",
    "        word = f.read()\n",
    "    if word == 'bolus':\n",
    "        continue\n",
    "        \n",
    "    # read in the BPR\n",
    "    bprloc = os.path.join(datadir, testsubj, testcase, testcase+'.bpr')\n",
    "    bpr = ultratils.pysonix.bprreader.BprReader(bprloc)\n",
    "    # read in the audio\n",
    "    auloc = os.path.join(datadir, testsubj, testcase, testcase+'.bpr.wav')\n",
    "    au = parselmouth.Sound(auloc).extract_channel(1)\n",
    "    # read in the known synchronization data, and create a dataframe to add to\n",
    "    syncloc = os.path.join(datadir, testsubj, testcase, testcase+'.bpr.sync.txt')\n",
    "\n",
    "    try:\n",
    "        frame_times = audosync.get_datadf_simple(bpr, au, syncloc)\n",
    "        for offset in testoffsets:\n",
    "            try:    \n",
    "                m = audosync.matchstreak(audosync.syncmatch(frame_times, offset=offset))\n",
    "                ds = []\n",
    "                for j in range(0,len(m[1])):\n",
    "                    ds = ds+[m[2][j]-m[1][j]]\n",
    "                testsyncdf = testsyncdf.append(pd.DataFrame({'subject':[testsubj],'acquisition':[testcase],\n",
    "                                                             'word':[word],'offset':[offset], 'streak':[m[0]],\n",
    "                                                             'syncduration':[sum(ds)]}))\n",
    "            except:\n",
    "                testsyncdf = testsyncdf.append(pd.DataFrame({'subject':[testsubj],'acquisition':[testcase],\n",
    "                                                             'word':[word],'offset':[offset], 'streak':[0],\n",
    "                                                             'syncduration':[0]}))\n",
    "    except:\n",
    "        print(\"Exception: \"+testcase)\n",
    "\n",
    "print('Done!')"
   ]
  },
  {
   "cell_type": "code",
   "execution_count": 13,
   "metadata": {},
   "outputs": [
    {
     "data": {
      "text/html": [
       "<div>\n",
       "<style scoped>\n",
       "    .dataframe tbody tr th:only-of-type {\n",
       "        vertical-align: middle;\n",
       "    }\n",
       "\n",
       "    .dataframe tbody tr th {\n",
       "        vertical-align: top;\n",
       "    }\n",
       "\n",
       "    .dataframe thead th {\n",
       "        text-align: right;\n",
       "    }\n",
       "</style>\n",
       "<table border=\"1\" class=\"dataframe\">\n",
       "  <thead>\n",
       "    <tr style=\"text-align: right;\">\n",
       "      <th></th>\n",
       "      <th>subject</th>\n",
       "      <th>acquisition</th>\n",
       "      <th>word</th>\n",
       "      <th>offset</th>\n",
       "      <th>streak</th>\n",
       "      <th>syncduration</th>\n",
       "    </tr>\n",
       "  </thead>\n",
       "  <tbody>\n",
       "    <tr>\n",
       "      <th>0</th>\n",
       "      <td>121</td>\n",
       "      <td>2015-10-30T105923-0700</td>\n",
       "      <td>canned</td>\n",
       "      <td>-0.20</td>\n",
       "      <td>1</td>\n",
       "      <td>0.0089</td>\n",
       "    </tr>\n",
       "    <tr>\n",
       "      <th>0</th>\n",
       "      <td>121</td>\n",
       "      <td>2015-10-30T105923-0700</td>\n",
       "      <td>canned</td>\n",
       "      <td>-0.19</td>\n",
       "      <td>3</td>\n",
       "      <td>0.0441</td>\n",
       "    </tr>\n",
       "    <tr>\n",
       "      <th>0</th>\n",
       "      <td>121</td>\n",
       "      <td>2015-10-30T105923-0700</td>\n",
       "      <td>canned</td>\n",
       "      <td>-0.18</td>\n",
       "      <td>3</td>\n",
       "      <td>0.0794</td>\n",
       "    </tr>\n",
       "    <tr>\n",
       "      <th>0</th>\n",
       "      <td>121</td>\n",
       "      <td>2015-10-30T105923-0700</td>\n",
       "      <td>canned</td>\n",
       "      <td>-0.17</td>\n",
       "      <td>3</td>\n",
       "      <td>0.0618</td>\n",
       "    </tr>\n",
       "    <tr>\n",
       "      <th>0</th>\n",
       "      <td>121</td>\n",
       "      <td>2015-10-30T105923-0700</td>\n",
       "      <td>canned</td>\n",
       "      <td>-0.16</td>\n",
       "      <td>4</td>\n",
       "      <td>0.0354</td>\n",
       "    </tr>\n",
       "  </tbody>\n",
       "</table>\n",
       "</div>"
      ],
      "text/plain": [
       "  subject             acquisition    word  offset streak  syncduration\n",
       "0     121  2015-10-30T105923-0700  canned   -0.20      1        0.0089\n",
       "0     121  2015-10-30T105923-0700  canned   -0.19      3        0.0441\n",
       "0     121  2015-10-30T105923-0700  canned   -0.18      3        0.0794\n",
       "0     121  2015-10-30T105923-0700  canned   -0.17      3        0.0618\n",
       "0     121  2015-10-30T105923-0700  canned   -0.16      4        0.0354"
      ]
     },
     "execution_count": 13,
     "metadata": {},
     "output_type": "execute_result"
    }
   ],
   "source": [
    "testsyncdf.head()"
   ]
  },
  {
   "cell_type": "code",
   "execution_count": 14,
   "metadata": {},
   "outputs": [],
   "source": [
    "testsyncdf['streak'] = pd.to_numeric(testsyncdf['streak'],errors='coerce')\n",
    "testsyncdf['syncduration'] = pd.to_numeric(testsyncdf['syncduration'],errors='coerce')"
   ]
  },
  {
   "cell_type": "code",
   "execution_count": 15,
   "metadata": {},
   "outputs": [],
   "source": [
    "maxsyncdf = pd.DataFrame()\n",
    "for a in testsyncdf.acquisition.unique():\n",
    "    sub = testsyncdf[testsyncdf['acquisition']==a].reset_index()\n",
    "    t = sub.loc[sub['syncduration'].idxmax()]\n",
    "    maxsyncdf = maxsyncdf.append(t)"
   ]
  },
  {
   "cell_type": "code",
   "execution_count": 16,
   "metadata": {},
   "outputs": [
    {
     "data": {
      "text/plain": [
       "<matplotlib.collections.PathCollection at 0x7f694f1cb128>"
      ]
     },
     "execution_count": 16,
     "metadata": {},
     "output_type": "execute_result"
    },
    {
     "data": {
      "image/png": "[encoded data removed]",
      "text/plain": [
       "<Figure size 432x288 with 1 Axes>"
      ]
     },
     "metadata": {
      "needs_background": "light"
     },
     "output_type": "display_data"
    }
   ],
   "source": [
    "plt.scatter(x=maxsyncdf.offset,y=maxsyncdf.streak)"
   ]
  },
  {
   "cell_type": "code",
   "execution_count": 17,
   "metadata": {},
   "outputs": [
    {
     "data": {
      "text/plain": [
       "(array([0., 0., 0., 0., 0., 0., 0., 0., 0., 0., 0., 0., 0., 0., 2., 0., 1.,\n",
       "        0., 1., 0., 0., 0., 3., 2., 1., 0., 0., 0., 0., 0., 0., 0., 0., 0.,\n",
       "        0., 0., 0., 0., 0., 1.]),\n",
       " array([-0.2 , -0.19, -0.18, -0.17, -0.16, -0.15, -0.14, -0.13, -0.12,\n",
       "        -0.11, -0.1 , -0.09, -0.08, -0.07, -0.06, -0.05, -0.04, -0.03,\n",
       "        -0.02, -0.01,  0.  ,  0.01,  0.02,  0.03,  0.04,  0.05,  0.06,\n",
       "         0.07,  0.08,  0.09,  0.1 ,  0.11,  0.12,  0.13,  0.14,  0.15,\n",
       "         0.16,  0.17,  0.18,  0.19,  0.2 ]),\n",
       " <a list of 40 Patch objects>)"
      ]
     },
     "execution_count": 17,
     "metadata": {},
     "output_type": "execute_result"
    },
    {
     "data": {
      "image/png": "[encoded data removed]",
      "text/plain": [
       "<Figure size 432x288 with 1 Axes>"
      ]
     },
     "metadata": {
      "needs_background": "light"
     },
     "output_type": "display_data"
    }
   ],
   "source": [
    "plt.hist(maxsyncdf.offset, bins=testoffsets)"
   ]
  },
  {
   "cell_type": "code",
   "execution_count": 18,
   "metadata": {},
   "outputs": [
    {
     "data": {
      "text/plain": [
       "<matplotlib.axes._subplots.AxesSubplot at 0x7f694f05bc50>"
      ]
     },
     "execution_count": 18,
     "metadata": {},
     "output_type": "execute_result"
    },
    {
     "data": {
      "image/png": "[encoded data removed]",
      "text/plain": [
       "<Figure size 432x288 with 1 Axes>"
      ]
     },
     "metadata": {
      "needs_background": "light"
     },
     "output_type": "display_data"
    }
   ],
   "source": [
    "sns.scatterplot(x='streak',y='syncduration',data=maxsyncdf)"
   ]
  },
  {
   "cell_type": "code",
   "execution_count": 19,
   "metadata": {},
   "outputs": [],
   "source": [
    "means = maxsyncdf.groupby(['word'])['offset','syncduration'].mean()"
   ]
  },
  {
   "cell_type": "code",
   "execution_count": 20,
   "metadata": {},
   "outputs": [
    {
     "data": {
      "text/html": [
       "<div>\n",
       "<style scoped>\n",
       "    .dataframe tbody tr th:only-of-type {\n",
       "        vertical-align: middle;\n",
       "    }\n",
       "\n",
       "    .dataframe tbody tr th {\n",
       "        vertical-align: top;\n",
       "    }\n",
       "\n",
       "    .dataframe thead th {\n",
       "        text-align: right;\n",
       "    }\n",
       "</style>\n",
       "<table border=\"1\" class=\"dataframe\">\n",
       "  <thead>\n",
       "    <tr style=\"text-align: right;\">\n",
       "      <th></th>\n",
       "      <th>offset</th>\n",
       "      <th>syncduration</th>\n",
       "    </tr>\n",
       "    <tr>\n",
       "      <th>word</th>\n",
       "      <th></th>\n",
       "      <th></th>\n",
       "    </tr>\n",
       "  </thead>\n",
       "  <tbody>\n",
       "    <tr>\n",
       "      <th>ball</th>\n",
       "      <td>0.02</td>\n",
       "      <td>0.2473</td>\n",
       "    </tr>\n",
       "    <tr>\n",
       "      <th>bed</th>\n",
       "      <td>0.02</td>\n",
       "      <td>0.2471</td>\n",
       "    </tr>\n",
       "    <tr>\n",
       "      <th>bode</th>\n",
       "      <td>0.02</td>\n",
       "      <td>0.1853</td>\n",
       "    </tr>\n",
       "    <tr>\n",
       "      <th>piece</th>\n",
       "      <td>0.02</td>\n",
       "      <td>0.2030</td>\n",
       "    </tr>\n",
       "    <tr>\n",
       "      <th>bore</th>\n",
       "      <td>0.03</td>\n",
       "      <td>0.1235</td>\n",
       "    </tr>\n",
       "    <tr>\n",
       "      <th>dose</th>\n",
       "      <td>0.03</td>\n",
       "      <td>0.2206</td>\n",
       "    </tr>\n",
       "    <tr>\n",
       "      <th>posh</th>\n",
       "      <td>0.04</td>\n",
       "      <td>0.1942</td>\n",
       "    </tr>\n",
       "    <tr>\n",
       "      <th>shah</th>\n",
       "      <td>0.04</td>\n",
       "      <td>0.1941</td>\n",
       "    </tr>\n",
       "    <tr>\n",
       "      <th>canned</th>\n",
       "      <td>0.06</td>\n",
       "      <td>0.2648</td>\n",
       "    </tr>\n",
       "    <tr>\n",
       "      <th>quiche</th>\n",
       "      <td>0.06</td>\n",
       "      <td>0.1765</td>\n",
       "    </tr>\n",
       "    <tr>\n",
       "      <th>can't</th>\n",
       "      <td>0.20</td>\n",
       "      <td>0.1324</td>\n",
       "    </tr>\n",
       "  </tbody>\n",
       "</table>\n",
       "</div>"
      ],
      "text/plain": [
       "        offset  syncduration\n",
       "word                        \n",
       "ball      0.02        0.2473\n",
       "bed       0.02        0.2471\n",
       "bode      0.02        0.1853\n",
       "piece     0.02        0.2030\n",
       "bore      0.03        0.1235\n",
       "dose      0.03        0.2206\n",
       "posh      0.04        0.1942\n",
       "shah      0.04        0.1941\n",
       "canned    0.06        0.2648\n",
       "quiche    0.06        0.1765\n",
       "can't     0.20        0.1324"
      ]
     },
     "execution_count": 20,
     "metadata": {},
     "output_type": "execute_result"
    }
   ],
   "source": [
    "means.abs().sort_values('offset')"
   ]
  },
  {
   "cell_type": "code",
   "execution_count": null,
   "metadata": {},
   "outputs": [],
   "source": []
  }
 ],
 "metadata": {
  "kernelspec": {
   "display_name": "Python 3",
   "language": "python",
   "name": "python3"
  },
  "language_info": {
   "codemirror_mode": {
    "name": "ipython",
    "version": 3
   },
   "file_extension": ".py",
   "mimetype": "text/x-python",
   "name": "python",
   "nbconvert_exporter": "python",
   "pygments_lexer": "ipython3",
   "version": "3.7.2"
  }
 },
 "nbformat": 4,
 "nbformat_minor": 2
}
